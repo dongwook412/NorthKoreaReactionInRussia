{
 "cells": [
  {
   "cell_type": "markdown",
   "metadata": {},
   "source": [
    "# Model "
   ]
  },
  {
   "cell_type": "code",
   "execution_count": 2,
   "metadata": {
    "collapsed": true
   },
   "outputs": [],
   "source": [
    "f = open('/home/ydw/capston/python/data/sum(fromPH.D+twitter)/text.txt', 'r', encoding='utf-8')\n",
    "text = f.read().splitlines()\n",
    "f.close()    \n",
    "f = open('/home/ydw/capston/python/data/sum(fromPH.D+twitter)/result.txt', 'r', encoding='utf-8')\n",
    "y = f.read().splitlines()\n",
    "f.close()    "
   ]
  },
  {
   "cell_type": "code",
   "execution_count": 4,
   "metadata": {},
   "outputs": [
    {
     "name": "stdout",
     "output_type": "stream",
     "text": [
      "Precision: 0.62004662004662\n",
      "Recall: 0.31002331002331\n",
      "Number of examples: 1287\n"
     ]
    }
   ],
   "source": [
    "#fasttext model\n",
    "for i in range(len(text)):\n",
    "    text[i] = '__label__'+y[i]+' '+text[i]+'\\n'\n",
    "    \n",
    "#\n",
    "import numpy as np\n",
    "\n",
    "fasttext_train = open(\"/home/ydw/capston/python/data/sum(fromPH.D+twitter)/fasttext data/fasttext_train.txt\", \"w\", encoding='utf-8')\n",
    "fasttext_test = open(\"/home/ydw/capston/python/data/sum(fromPH.D+twitter)/fasttext data/fasttext_test.txt\", \"w\", encoding='utf-8')\n",
    "for i in text:\n",
    "    if(np.random.uniform() < 0.2):\n",
    "        fasttext_test.write(i)\n",
    "    else:\n",
    "        fasttext_train.write(i)\n",
    "        \n",
    "#\n",
    "import fasttext\n",
    "classifier = fasttext.supervised('/home/ydw/capston/python/data/sum(fromPH.D+twitter)/fasttext data/fasttext_train.txt',\n",
    "                                 '/home/ydw/capston/fromPH.D/classifier',\n",
    "                                 dim=20, loss='softmax', epoch=10, label_prefix='__label__')\n",
    "\n",
    "#\n",
    "result = classifier.test('/home/ydw/capston/python/data/sum(fromPH.D+twitter)/fasttext data/fasttext_test.txt')\n",
    "\n",
    "print('Precision:', result.precision)\n",
    "print('Recall:', result.recall)\n",
    "print('Number of examples:', result.nexamples)"
   ]
  },
  {
   "cell_type": "markdown",
   "metadata": {},
   "source": [
    "# Test(expert 100)"
   ]
  },
  {
   "cell_type": "code",
   "execution_count": 6,
   "metadata": {
    "collapsed": true
   },
   "outputs": [],
   "source": [
    "neu = '2'\n",
    "pos = '0'\n",
    "neg = '1'"
   ]
  },
  {
   "cell_type": "code",
   "execution_count": 7,
   "metadata": {},
   "outputs": [],
   "source": [
    "#expert 100\n",
    "f = open('/home/ydw/capston/python/data/test/expert/expert_100.txt', 'r', encoding='utf-8')\n",
    "text = f.read().splitlines()\n",
    "f.close()    \n",
    "\n",
    "#expert 100\n",
    "f = open('/home/ydw/capston/python/data/test/expert/y.txt', 'r', encoding='utf-8')\n",
    "ry = f.read().splitlines()\n",
    "f.close()    \n",
    "\n",
    "y = []\n",
    "for i in ry:\n",
    "    if(i == 'l'):\n",
    "        y.append(neu)\n",
    "    elif(i == 'p'):\n",
    "        y.append(pos)\n",
    "    elif(i == 'n'):\n",
    "        y.append(neg)\n",
    "    else:\n",
    "        y.append('-1')"
   ]
  },
  {
   "cell_type": "code",
   "execution_count": 8,
   "metadata": {
    "collapsed": true
   },
   "outputs": [],
   "source": [
    "#fasttext\n",
    "pre_y = []\n",
    "for doc in text:\n",
    "    rdoc = [doc]\n",
    "    pre_y.append(classifier.predict(rdoc)[0][0])"
   ]
  },
  {
   "cell_type": "code",
   "execution_count": 9,
   "metadata": {},
   "outputs": [
    {
     "data": {
      "text/plain": [
       "0.6060606060606061"
      ]
     },
     "execution_count": 9,
     "metadata": {},
     "output_type": "execute_result"
    }
   ],
   "source": [
    "count = 0\n",
    "for i in range(len(y)):\n",
    "    if(y[i] == pre_y[i]):\n",
    "        count = count+1\n",
    "count/len(y)"
   ]
  }
 ],
 "metadata": {
  "kernelspec": {
   "display_name": "Python 3",
   "language": "python",
   "name": "python3"
  },
  "language_info": {
   "codemirror_mode": {
    "name": "ipython",
    "version": 3
   },
   "file_extension": ".py",
   "mimetype": "text/x-python",
   "name": "python",
   "nbconvert_exporter": "python",
   "pygments_lexer": "ipython3",
   "version": "3.6.3"
  }
 },
 "nbformat": 4,
 "nbformat_minor": 2
}
