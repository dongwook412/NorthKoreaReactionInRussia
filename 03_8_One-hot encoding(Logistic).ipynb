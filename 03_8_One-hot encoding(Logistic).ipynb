{
 "cells": [
  {
   "cell_type": "markdown",
   "metadata": {},
   "source": [
    "# Model"
   ]
  },
  {
   "cell_type": "code",
   "execution_count": 16,
   "metadata": {
    "collapsed": true
   },
   "outputs": [],
   "source": [
    "f = open('/home/ydw/capston/python/data/sum(fromPH.D+twitter)/text.txt', 'r', encoding='utf-8')\n",
    "text = f.read().splitlines()\n",
    "f.close()    \n",
    "f = open('/home/ydw/capston/python/data/sum(fromPH.D+twitter)/result.txt', 'r', encoding='utf-8')\n",
    "y = f.read().splitlines()\n",
    "f.close()    "
   ]
  },
  {
   "cell_type": "code",
   "execution_count": 17,
   "metadata": {},
   "outputs": [
    {
     "name": "stdout",
     "output_type": "stream",
     "text": [
      "train score: 0.99\n",
      "test score: 0.63\n"
     ]
    }
   ],
   "source": [
    "#One-hot encoding Model\n",
    "from sklearn.model_selection import train_test_split\n",
    "from sklearn.feature_extraction.text import CountVectorizer\n",
    "from sklearn.pipeline import make_pipeline\n",
    "from sklearn.linear_model import LogisticRegression\n",
    "\n",
    "text_train, text_test, y_train, y_test = train_test_split(text, y, test_size=0.2, random_state=1)\n",
    "pipe_b = make_pipeline(CountVectorizer(ngram_range=(1,3), min_df=0), LogisticRegression())\n",
    "pipe_b.fit(text_train, y_train)\n",
    "\n",
    "print(\"train score: {:.2f}\".format(pipe_b.score(text_train, y_train)))\n",
    "print(\"test score: {:.2f}\".format(pipe_b.score(text_test, y_test)))"
   ]
  },
  {
   "cell_type": "markdown",
   "metadata": {},
   "source": [
    "# Test(expert 100)"
   ]
  },
  {
   "cell_type": "code",
   "execution_count": 18,
   "metadata": {
    "collapsed": true
   },
   "outputs": [],
   "source": [
    "neu = '2'\n",
    "pos = '0'\n",
    "neg = '1'"
   ]
  },
  {
   "cell_type": "code",
   "execution_count": 19,
   "metadata": {
    "collapsed": true
   },
   "outputs": [],
   "source": [
    "#expert 100\n",
    "f = open('/home/ydw/capston/python/data/test/expert/expert_100.txt', 'r', encoding='utf-8')\n",
    "text = f.read().splitlines()\n",
    "f.close()    \n",
    "\n",
    "#expert 100\n",
    "f = open('/home/ydw/capston/expert100/y.txt', 'r', encoding='utf-8')\n",
    "ry = f.read().splitlines()\n",
    "f.close()    \n",
    "\n",
    "y = []\n",
    "for i in ry:\n",
    "    if(i == 'l'):\n",
    "        y.append(neu)\n",
    "    elif(i == 'p'):\n",
    "        y.append(pos)\n",
    "    elif(i == 'n'):\n",
    "        y.append(neg)\n",
    "    else:\n",
    "        y.append('-1')"
   ]
  },
  {
   "cell_type": "code",
   "execution_count": 20,
   "metadata": {
    "collapsed": true
   },
   "outputs": [],
   "source": [
    "#word2vec\n",
    "pre_y = []\n",
    "for doc in text:\n",
    "    rdoc = [doc]\n",
    "    pre_y.append(pipe_b.predict(rdoc)[0])"
   ]
  },
  {
   "cell_type": "code",
   "execution_count": 21,
   "metadata": {},
   "outputs": [
    {
     "data": {
      "text/plain": [
       "0.6767676767676768"
      ]
     },
     "execution_count": 21,
     "metadata": {},
     "output_type": "execute_result"
    }
   ],
   "source": [
    "count = 0\n",
    "for i in range(len(y)):\n",
    "    if(y[i] == pre_y[i]):\n",
    "        count = count+1\n",
    "count/len(y)"
   ]
  }
 ],
 "metadata": {
  "kernelspec": {
   "display_name": "Python 3",
   "language": "python",
   "name": "python3"
  },
  "language_info": {
   "codemirror_mode": {
    "name": "ipython",
    "version": 3
   },
   "file_extension": ".py",
   "mimetype": "text/x-python",
   "name": "python",
   "nbconvert_exporter": "python",
   "pygments_lexer": "ipython3",
   "version": "3.6.3"
  }
 },
 "nbformat": 4,
 "nbformat_minor": 2
}
